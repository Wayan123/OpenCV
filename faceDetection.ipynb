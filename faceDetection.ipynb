{
 "cells": [
  {
   "cell_type": "code",
   "execution_count": 2,
   "source": [
    "'''\r\n",
    "Haar Cascade Face detection with OpenCV  \r\n",
    "    Based on tutorial by pythonprogramming.net\r\n",
    "    Visit original post: https://pythonprogramming.net/haar-cascade-face-eye-detection-python-opencv-tutorial/  \r\n",
    "Adapted by Marcelo Rovai - MJRoBot.org @ 7Feb2018 \r\n",
    "Modifed by: Wayan Dadang\r\n",
    "'''\r\n",
    "\r\n",
    "import cv2\r\n",
    "\r\n",
    "# multiple cascades: https://github.com/Itseez/opencv/tree/master/data/haarcascades\r\n",
    "faceCascade = cv2.CascadeClassifier('haarcascade_frontalface_default.xml')\r\n",
    "\r\n",
    "cap = cv2.VideoCapture(0) #Webcam (0), Eksternal (2)\r\n",
    "cap.set(3,640) # set Width\r\n",
    "cap.set(4,480) # set Height\r\n",
    "\r\n",
    "while True:\r\n",
    "    ret, img = cap.read()\r\n",
    "    img = cv2.flip(img, 1) # https://note.nkmk.me/en/python-opencv-numpy-rotate-flip/\r\n",
    "    gray = cv2.cvtColor(img, cv2.COLOR_BGR2GRAY)\r\n",
    "    faces = faceCascade.detectMultiScale(\r\n",
    "        gray,\r\n",
    "        scaleFactor=1.2,\r\n",
    "        minNeighbors=5,     \r\n",
    "        minSize=(20, 20)\r\n",
    "    )\r\n",
    "\r\n",
    "    for (x,y,w,h) in faces:\r\n",
    "        cv2.rectangle(img,(x,y),(x+w,y+h),(255,0,0),2)\r\n",
    "        roi_gray = gray[y:y+h, x:x+w] # ROI : Region of Interest\r\n",
    "        roi_color = img[y:y+h, x:x+w]\r\n",
    "        \r\n",
    "\r\n",
    "    cv2.imshow('video',img)\r\n",
    "\r\n",
    "    k = cv2.waitKey(30) & 0xff\r\n",
    "    if k == 27: # press 'ESC' to quit\r\n",
    "        break\r\n",
    "\r\n",
    "cap.release()\r\n",
    "cv2.destroyAllWindows()\r\n"
   ],
   "outputs": [],
   "metadata": {}
  },
  {
   "cell_type": "code",
   "execution_count": null,
   "source": [],
   "outputs": [],
   "metadata": {}
  }
 ],
 "metadata": {
  "kernelspec": {
   "display_name": "tf23p38gpu-riset",
   "language": "python",
   "name": "tf23p38gpu-riset"
  },
  "language_info": {
   "codemirror_mode": {
    "name": "ipython",
    "version": 3
   },
   "file_extension": ".py",
   "mimetype": "text/x-python",
   "name": "python",
   "nbconvert_exporter": "python",
   "pygments_lexer": "ipython3",
   "version": "3.8.8"
  }
 },
 "nbformat": 4,
 "nbformat_minor": 5
}
